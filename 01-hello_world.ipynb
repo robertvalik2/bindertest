{
 "cells": [
  {
   "cell_type": "markdown",
   "id": "8215b4c3-74cc-4845-8c9f-09350294f211",
   "metadata": {
    "tags": []
   },
   "source": [
    "# Python príklad\n",
    "\n",
    "Tento príklad vypíše \"Hello World\". Klikni do kódu a stlač CTRL+ENTER\n"
   ]
  },
  {
   "cell_type": "code",
   "execution_count": null,
   "id": "154dc31c-76ce-41a7-bfee-b08ab449f932",
   "metadata": {},
   "outputs": [],
   "source": [
    "print(\"hello world\")"
   ]
  }
 ],
 "metadata": {
  "kernelspec": {
   "display_name": "Python 3",
   "language": "python",
   "name": "python3"
  },
  "language_info": {
   "codemirror_mode": {
    "name": "ipython",
    "version": 3
   },
   "file_extension": ".py",
   "mimetype": "text/x-python",
   "name": "python",
   "nbconvert_exporter": "python",
   "pygments_lexer": "ipython3",
   "version": "3.9.9"
  }
 },
 "nbformat": 4,
 "nbformat_minor": 5
}
